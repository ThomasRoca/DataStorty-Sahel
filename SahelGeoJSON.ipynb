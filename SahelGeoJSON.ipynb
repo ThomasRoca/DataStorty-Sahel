{
 "cells": [
  {
   "cell_type": "markdown",
   "metadata": {},
   "source": [
    "### Mapping des DHS avec Ipython et ipyleaflet"
   ]
  },
  {
   "cell_type": "code",
   "execution_count": 1,
   "metadata": {
    "collapsed": false,
    "deletable": true,
    "editable": true
   },
   "outputs": [
    {
     "name": "stderr",
     "output_type": "stream",
     "text": [
      "Enabling notebook extension jupyter-leaflet/extension...\n",
      "      - Validating: ok\n"
     ]
    }
   ],
   "source": [
    "import ipyleaflet as ipyl\n",
    "import ipywidgets as ipyw\n",
    "import json\n",
    "!jupyter nbextension enable --py --sys-prefix ipyleaflet"
   ]
  },
  {
   "cell_type": "code",
   "execution_count": 7,
   "metadata": {
    "collapsed": false,
    "deletable": true,
    "editable": true
   },
   "outputs": [
    {
     "data": {
      "application/vnd.jupyter.widget-view+json": {
       "model_id": "f11216df6c744203866c5b99d7562244"
      }
     },
     "metadata": {},
     "output_type": "display_data"
    }
   ],
   "source": [
    "# Map and label widgets\n",
    "#[\"HCELECHELC\": 20.4, \"HCELECHNEL\": 79.6, \"HCELECHDKM\": 9999.0, \"HCRMSLH1RM\": 14.0, \"HCRMSLH2RM\": 35.0, \"HCRMSLH3RM\": 50.6, \"HCRMSLHDKM\": 0.4, \"HCCKPLHHSE\": 9.1, \"HCCKPLHSEP\": 73.0, \"HCCKPLHOUT\": 16.5, \"HCCKPLHNFD\": 1.1, \"HCCKPLHDKM\": 0.0, \"HCCKPLWOTH\": 0.4, \"HCCKFLHELC\": 0.1, \"HCCKFLHLPG\": 0.2, \"HCCKFLHKER\": 0.0, \"HCCKFLHCOL\": 0.2, \"HCCKFLHCHR\": 9.6, \"HCCKFLHWOD\": 88.9, \"HCCKFLHSTR\": 0.0, \"HCCKFLHAGR\": 0.0, \"HCCKFLHDNG\": 0.0, \"HCCKFLHGAS\": 9999.0, \"HCCKFLHOTH\": 9999.0, \"HCCKFLHNFD\": 1.1, \"HCCKFLHDKM\": 0.0, \"HCCKFLHSLD\": 98.7, \"HCSMKHHDLY\": 15.2, \"HCSMKHHWLY\": 2.1, ]\n",
    "map = ipyl.Map(center=[12.2383,-1.56159], zoom=4)\n",
    "label = ipyw.Label(layout=ipyw.Layout(width='100%'))\n",
    "\n",
    "# geojson layer with hover handler\n",
    "with open('./sahel.json') as f:\n",
    "    data = json.load(f)\n",
    "for feature in data['features']:\n",
    "    feature['properties']['style'] = {\n",
    "        'color': 'grey',\n",
    "        'weight': 1,\n",
    "        'fillColor': 'grey',\n",
    "        'fillOpacity': 0.5\n",
    "    }\n",
    "layer = ipyl.GeoJSON(data=data, hover_style={'fillColor': 'red'})\n",
    "\n",
    "def hover_handler(event=None, id=None, properties=None):\n",
    "    label.value = str(properties['HCELECHELC'])\n",
    "\n",
    "layer.on_hover(hover_handler)\n",
    "map.add_layer(layer)\n",
    "\n",
    "\n",
    "ipyw.VBox([map, label])"
   ]
  }
 ],
 "metadata": {
  "kernelspec": {
   "display_name": "Python 3",
   "language": "python",
   "name": "python3"
  },
  "language_info": {
   "codemirror_mode": {
    "name": "ipython",
    "version": 3
   },
   "file_extension": ".py",
   "mimetype": "text/x-python",
   "name": "python",
   "nbconvert_exporter": "python",
   "pygments_lexer": "ipython3",
   "version": "3.4.4"
  }
 },
 "nbformat": 4,
 "nbformat_minor": 0
}
